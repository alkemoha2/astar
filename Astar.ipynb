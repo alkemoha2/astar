{
 "cells": [
  {
   "cell_type": "markdown",
   "metadata": {},
   "source": [
    "Environment of the agent comprises of a map in graph form with vertices represented by cities and edges represented by distance between cities. \n",
    "Assumptions:\n",
    "1. We are ignoring factors such as traffic, road conditions, accidents etc. which can influence time taken to cover distance. Hence distance is the only factor used to decide the optimal path.\n",
    "2. We are ignoring exact starting location within Panji city and exact destination in Chennai city. City center is assumed as point of start and end.\n",
    "Characteristics of the environment:\n",
    "1. Partially observable - since agent can only see the neighboring cities when it is at a particular city. \n",
    "2. Static - since we are only considering distance between cities and connections between cities. Environment doesn’t change while agent is deliberating.\n",
    "3. Sequential - since agent needs to know sequence of previous steps while deciding the next step.\n",
    "4. Deterministic - since result of agent's action is completely determined based on current state and action taken by agent.\n",
    "5. Discrete - finite number of states involved and discrete set of percepts and actions.\n",
    "6. Single agent - since only one agent is involved.\n",
    "\n",
    "\n",
    "We have created following objects to help us represent the environment:\n",
    "1. City: We have created class City with attributes cityName, latitude, longitude and adjacent neighbors along with their respective distances. Python dictionary data structure is used to store adjacent cities. Key in this dictionary is city name and value is distance to that city.\n",
    "\n",
    "Example Panji city:\n",
    "\n",
    "{ cityName = 'Panji',\n",
    "\n",
    "  latitude = 15.4909,\n",
    "  \n",
    "  longitude = 73.8278,\n",
    "  \n",
    "  adjacent = { 'Mangalore'=365, 'Bellari' = 409, 'Raichur'=457}\n",
    "  \n",
    " }"
   ]
  },
  {
   "cell_type": "code",
   "execution_count": 1,
   "metadata": {},
   "outputs": [],
   "source": [
    "class City:\n",
    "    def __init__(self, cityName, lat, long):\n",
    "        self.cityName = cityName\n",
    "        self.latitude = lat\n",
    "        self.longitude = long\n",
    "        self.adjacent = {}\n",
    "\n",
    "    def get_cityName(self):\n",
    "        return self.cityName\n",
    "    \n",
    "    def get_lat(self):\n",
    "        return self.latitude\n",
    "    \n",
    "    def get_long(self):\n",
    "        return self.longitude   \n",
    "\n",
    "    def get_distance(self, neighbor):\n",
    "        return self.adjacent[neighbor]\n",
    "    \n",
    "    def add_neighbor(self, neighbor, distance=0):\n",
    "        self.adjacent[neighbor] = distance\n",
    "\n",
    "    def get_connections(self):\n",
    "        return self.adjacent.keys()  "
   ]
  },
  {
   "cell_type": "markdown",
   "metadata": {},
   "source": [
    "2. Environment: Class Environment is used to represent the environemnt. This class contains a dictionary called cities which has city objects. It also provides functions to add city, get city as well as get all neighbors of a city.\n",
    "Below is an example to depict how this data structure looks like.\n",
    "\n",
    "cities=\n",
    "\n",
    "{ 'Panji':\n",
    "     \n",
    "     { cityName = 'Panji',\n",
    "\n",
    "      latitude = 15.4909,\n",
    "  \n",
    "      longitude = 73.8278,\n",
    "  \n",
    "      adjacent = { 'Mangalore'=365, 'Bellari' = 409, 'Raichur'=457}\n",
    "  \n",
    "     },\n",
    "     \n",
    "'Mangalore':\n",
    "     \n",
    "     { cityName = 'Mangalore',\n",
    "\n",
    "      latitude = 12.9141,\n",
    "  \n",
    "      longitude = 74.8560,\n",
    "  \n",
    "      adjacent = { 'Panji'=365, 'Bangalore' = 352, 'Kozhicode'=233}\n",
    "  \n",
    "     }\n",
    "     ...\n",
    "     \n",
    "     ...\n",
    "     \n",
    "}"
   ]
  },
  {
   "cell_type": "code",
   "execution_count": 2,
   "metadata": {},
   "outputs": [],
   "source": [
    "class Environment:\n",
    "    def __init__(self):\n",
    "        self.cities = {}\n",
    "\n",
    "\n",
    "    def add_city(self, node, lat, long):\n",
    "        new_city = City(node, lat, long)\n",
    "        self.cities[node] = new_city\n",
    "        return new_city\n",
    "\n",
    "    def get_city(self, n):\n",
    "        if n in self.cities:\n",
    "            return self.cities[n]\n",
    "        else:\n",
    "            return None\n",
    "\n",
    "    def add_edge(self, frm, to, cost = 0):\n",
    "        self.cities[frm].add_neighbor(self.cities[to], cost)\n",
    "        self.cities[to].add_neighbor(self.cities[frm], cost)\n",
    "\n",
    "    def get_adjacent(self,n):\n",
    "        return n.get_connections()"
   ]
  },
  {
   "cell_type": "markdown",
   "metadata": {},
   "source": [
    "Define the haversine formula and what it does"
   ]
  },
  {
   "cell_type": "markdown",
   "metadata": {},
   "source": [
    "#haversine formula representation \n",
    "\n",
    "haversine formula calculates the great-circle distance between two points – that is, the shortest distance over the earth’s surface between the points (ignoring any hills, fly over, etc).\n",
    "\n",
    "Haversine formula:\n",
    "\n",
    "a = sin²(Δφ/2) + cos φ1 ⋅ cos φ2 ⋅ sin²(Δλ/2)\n",
    "c = 2 ⋅ atan2( √a, √(1−a) )\n",
    "d = R ⋅ c\n",
    "\n",
    "where\tφ is latitude, λ is longitude, R is earth’s radius (mean radius = 6,371km);\n",
    "note that angles need to be in radians to pass to trig functions!\n"
   ]
  },
  {
   "cell_type": "markdown",
   "metadata": {},
   "source": [
    "2) Define a function which calculates the heuristic distance from each city to the destination city in the following code block"
   ]
  },
  {
   "cell_type": "code",
   "execution_count": 3,
   "metadata": {},
   "outputs": [],
   "source": [
    "#Function for calculating distance from each node/city to Destination using latitude and longitude.\n",
    "import math\n",
    "def huristic_dist(origin, destination):\n",
    "    radius = 6371 #Based on Haversine formula assumption of mean radius in km\n",
    "    latitude1 = origin.get_lat()\n",
    "    longitude1 = origin.get_long()\n",
    "    latitude2 = destination.get_lat()\n",
    "    longitude2 = destination.get_long()\n",
    "    \n",
    "\n",
    "    diffLat = math.radians(latitude2-latitude1)\n",
    "    diffLon = math.radians(longitude2-longitude1)\n",
    "    a = math.pow(math.sin(diffLat/2),2) + math.cos(math.radians(latitude1)) * math.cos(math.radians(latitude2)) * math.pow(math.sin(diffLon/2),2)\n",
    "    c = 2 * math.atan2(math.sqrt(a), math.sqrt(1-a))\n",
    "    d = radius * c\n",
    "\n",
    "    return d"
   ]
  },
  {
   "cell_type": "markdown",
   "metadata": {},
   "source": [
    "3) Implementation of A* Algorithm . Feel free to add code blocks for each methods needed starting here.\n",
    "Please modularize the implementation of A* and write each of them in a code block. "
   ]
  },
  {
   "cell_type": "code",
   "execution_count": 9,
   "metadata": {},
   "outputs": [],
   "source": [
    "class Agent:\n",
    "    visitedCities= set()\n",
    "    frontierCities= set()\n",
    "    f = {} # stores f(n); f(n) = g(n)+h(n)\n",
    "    g = {} # stores g(n), the actual cost from start to a node\n",
    "    # to retrieve the best once algorithm completes\n",
    "    previousOptimalNode = {}\n",
    "    finalPath=[]\n",
    "    finalCost=0\n",
    "    citiesVistedCount=0\n",
    "        \n",
    "    def selectBestCityFromFrontier(self):\n",
    "        current_cityName = None\n",
    "        currentFscore = None        \n",
    "        for pos in self.frontierCities:\n",
    "            if current_cityName is None or self.f[pos] < currentFscore:\n",
    "                currentFscore = self.f[pos]\n",
    "                current_cityName = pos\n",
    "        return current_cityName,currentFscore \n",
    "\n",
    "    def generate(self,environment,current_cityName):\n",
    "        current = environment.get_city(current_cityName)\n",
    "        for neighbor in environment.get_adjacent(current):\n",
    "            neighbor_cityName = neighbor.get_cityName()\n",
    "            if neighbor_cityName in self.visitedCities:\n",
    "                continue\n",
    "            new_g_for_neighbor = self.g[current_cityName] + current.get_distance(neighbor)\n",
    "            if neighbor_cityName in self.frontierCities:\n",
    "                if new_g_for_neighbor >= self.g[neighbor_cityName]:\n",
    "                    continue\n",
    "            else:\n",
    "                self.frontierCities.add(neighbor_cityName)\n",
    "                self.citiesVistedCount+=1\n",
    "                print(neighbor_cityName)\n",
    "            self.previousOptimalNode[neighbor_cityName] = current_cityName\n",
    "            self.g[neighbor_cityName] = new_g_for_neighbor\n",
    "            self.f[neighbor_cityName] = self.g[neighbor_cityName] + huristic_dist(neighbor,end)   \n",
    "            \n",
    "    def backtrackPath(self,start_cityName,end_cityName):\n",
    "        self.finalPath.append(end_cityName)\n",
    "        curr_cityName = end_cityName \n",
    "        while curr_cityName != start_cityName:\n",
    "            curr_cityName = self.previousOptimalNode[curr_cityName]\n",
    "            self.finalPath.append(curr_cityName)\n",
    "        self.finalPath.reverse()\n",
    "        self.finalCost=self.g[end_cityName]        \n",
    "        \n",
    "    def AStar(self,start,end,environment):\n",
    "        start_cityName = start.get_cityName()\n",
    "        end_cityName = end.get_cityName()\n",
    "        \n",
    "        #   Add start to frontier\n",
    "        self.frontierCities.add(start_cityName)\n",
    "        self.citiesVistedCount+=1\n",
    "        print(start_cityName)\n",
    "        self.g[start_cityName] = 0\n",
    "        self.f[start_cityName] = huristic_dist(start,end) + self.g[start_cityName]\n",
    "\n",
    "        #2. Loop through frontier until soln is found or frontier empty\n",
    "        while len(self.frontierCities) > 0:\n",
    "            # select best node from frontier\n",
    "            current_cityName,currentFscore  = self.selectBestCityFromFrontier()            \n",
    "\n",
    "            #4. check if we have reached goal  \n",
    "            if current_cityName == end_cityName:\n",
    "                print('success')\n",
    "                self.backtrackPath(start_cityName,end_cityName)\n",
    "                return self.finalPath, self.finalCost, self.citiesVistedCount\n",
    "\n",
    "            #5. mark current vertex as closed\n",
    "            self.frontierCities.remove(current_cityName)\n",
    "            self.visitedCities.add(current_cityName)\n",
    "            \n",
    "\n",
    "            #6. Expand current node and add all childs to frontier\n",
    "            self.generate(environment,current_cityName)\n",
    "\n",
    "        print(\"no solution\")"
   ]
  },
  {
   "cell_type": "markdown",
   "metadata": {},
   "source": [
    "Call your main function/algorithm block in the next code block with appropriate input representation"
   ]
  },
  {
   "cell_type": "code",
   "execution_count": 10,
   "metadata": {},
   "outputs": [
    {
     "name": "stdout",
     "output_type": "stream",
     "text": [
      "Panji\n",
      "Raichur\n",
      "Bellari\n",
      "Mangalore\n",
      "Tirupati\n",
      "Bangalore\n",
      "Chennai\n",
      "Nellore\n",
      "Kurnool\n",
      "success\n"
     ]
    }
   ],
   "source": [
    "e = Environment()\n",
    "\n",
    "e.add_city('Panji',15.4909,73.8278)\n",
    "e.add_city('Raichur',16.2076,77.3463)\n",
    "e.add_city('Kurnool',15.8281,78.0373)\n",
    "e.add_city('Tirupati',13.6288,79.4192)\n",
    "e.add_city('Bellari',15.1394, 76.9214)\n",
    "e.add_city('Mangalore',12.9141,74.8560)\n",
    "e.add_city('Bangalore',12.9716,77.5946)\n",
    "e.add_city('Kozhicode',11.2588,75.7804)\n",
    "e.add_city('Nellore',14.4426,79.9865)\n",
    "e.add_city('Chennai',13.0827, 80.2707)\n",
    "\n",
    "\n",
    "e.add_edge('Panji', 'Raichur', 457)  \n",
    "e.add_edge('Panji', 'Bellari', 409)\n",
    "e.add_edge('Panji', 'Mangalore', 365)\n",
    "e.add_edge('Raichur', 'Tirupati', 453)\n",
    "e.add_edge('Raichur', 'Kurnool', 100)\n",
    "e.add_edge('Tirupati', 'Bellari', 379)\n",
    "e.add_edge('Tirupati', 'Chennai', 153)\n",
    "e.add_edge('Tirupati', 'Nellore', 136)\n",
    "e.add_edge('Bangalore', 'Kozhicode', 356)\n",
    "e.add_edge('Bangalore', 'Chennai', 346)\n",
    "e.add_edge('Bangalore', 'Bellari', 311)\n",
    "e.add_edge('Bangalore', 'Mangalore', 352)\n",
    "e.add_edge('Kozhicode', 'Mangalore', 233)\n",
    "e.add_edge('Tirupati', 'Kurnool', 340)\n",
    "e.add_edge('Nellore', 'Kurnool', 325)\n",
    "e.add_edge('Nellore', 'Chennai', 175)\n",
    "\n",
    "start=e.get_city('Panji')\n",
    "end=e.get_city('Chennai')\n",
    "a = Agent()\n",
    "\n",
    "path,cost, citiesVistedCount = a.AStar(start,end,e)\n"
   ]
  },
  {
   "cell_type": "markdown",
   "metadata": {},
   "source": [
    "The agent should provide expected output for questions mentioned below in the subsequent blocks"
   ]
  },
  {
   "cell_type": "markdown",
   "metadata": {},
   "source": [
    "(3.1) Path taken to reach destination from Panaji"
   ]
  },
  {
   "cell_type": "code",
   "execution_count": 6,
   "metadata": {},
   "outputs": [
    {
     "name": "stdout",
     "output_type": "stream",
     "text": [
      "Best path from Panji to Chennai:['Panji', 'Bellari', 'Tirupati', 'Chennai']\n"
     ]
    }
   ],
   "source": [
    "# Execute statement to retrieve the path taken here\n",
    "print('Best path from Panji to Chennai:'+str(path))"
   ]
  },
  {
   "cell_type": "markdown",
   "metadata": {},
   "source": [
    "(3.2) Cost of the path"
   ]
  },
  {
   "cell_type": "code",
   "execution_count": 7,
   "metadata": {},
   "outputs": [
    {
     "name": "stdout",
     "output_type": "stream",
     "text": [
      "cost of best path to Chennai:941\n"
     ]
    }
   ],
   "source": [
    "# Execute statement to retrieve the cost of the path here\n",
    "print('cost of best path to Chennai:'+str(cost))"
   ]
  },
  {
   "cell_type": "markdown",
   "metadata": {},
   "source": [
    "(3.3) Total Number of nodes vistied to get this state"
   ]
  },
  {
   "cell_type": "code",
   "execution_count": 8,
   "metadata": {},
   "outputs": [
    {
     "name": "stdout",
     "output_type": "stream",
     "text": [
      "total nodes visted to reach Chennai:4\n",
      "total intermediate cities visited to reach Chennai from Panji:2\n",
      "total nodes visted to come up with solution:9\n"
     ]
    }
   ],
   "source": [
    "# Execute statement to retrieve the total number of nodes visited to get this state here\n",
    "print('total nodes visted to reach Chennai:'+str(len(path)))\n",
    "print('total intermediate cities visited to reach Chennai from Panji:'+str(len(path)-2))\n",
    "print('total nodes visted to come up with solution:'+str(citiesVistedCount))\n"
   ]
  }
 ],
 "metadata": {
  "kernelspec": {
   "display_name": "Python 3",
   "language": "python",
   "name": "python3"
  },
  "language_info": {
   "codemirror_mode": {
    "name": "ipython",
    "version": 3
   },
   "file_extension": ".py",
   "mimetype": "text/x-python",
   "name": "python",
   "nbconvert_exporter": "python",
   "pygments_lexer": "ipython3",
   "version": "3.7.3"
  }
 },
 "nbformat": 4,
 "nbformat_minor": 2
}
